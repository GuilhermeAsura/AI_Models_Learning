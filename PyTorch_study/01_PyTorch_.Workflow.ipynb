{
 "cells": [
  {
   "cell_type": "markdown",
   "id": "95de702d-ecce-432a-8f98-ba16d1ada758",
   "metadata": {},
   "source": [
    "# PyTorch Workflow\n",
    "\n",
    "Let's explore an example PyTorch end-to-end workflow.\n",
    "\n",
    "Resources:\n",
    "- Book version of notebook: https://www.learnpytorch.io/01_pytorch_workflow/"
   ]
  },
  {
   "cell_type": "code",
   "execution_count": 3,
   "id": "50a16367-c949-442c-b0d0-e78abcf4ca26",
   "metadata": {},
   "outputs": [
    {
     "name": "stdout",
     "output_type": "stream",
     "text": [
      "PyTorch version:  2.5.1\n",
      "CUDA Available: True\n",
      "PyTorch-Cuda version:  12.4\n",
      "Device name:  NVIDIA GeForce GTX 1650\n"
     ]
    }
   ],
   "source": [
    "import torch\n",
    "print(\"PyTorch version: \",torch.__version__)\n",
    "print(\"CUDA Available:\", torch.cuda.is_available()) # checks for GPU access with PyTorch\n",
    "print(\"PyTorch-Cuda version: \",torch.version.cuda) \n",
    "print(\"Device name: \", torch.cuda.get_device_name(0))"
   ]
  },
  {
   "cell_type": "code",
   "execution_count": 4,
   "id": "8ffa6c49-0200-46d6-aa15-7489050d9ebc",
   "metadata": {},
   "outputs": [
    {
     "data": {
      "text/plain": [
       "'cuda'"
      ]
     },
     "execution_count": 4,
     "metadata": {},
     "output_type": "execute_result"
    }
   ],
   "source": [
    "# Setup device agnostic code\n",
    "device = \"cuda\" if torch.cuda.is_available() else \"cpu\"\n",
    "device"
   ]
  },
  {
   "cell_type": "code",
   "execution_count": 5,
   "id": "9d833c5c-c27d-4808-9a91-e4c826cc09aa",
   "metadata": {},
   "outputs": [
    {
     "data": {
      "text/plain": [
       "1"
      ]
     },
     "execution_count": 5,
     "metadata": {},
     "output_type": "execute_result"
    }
   ],
   "source": [
    "# Count number of devices\n",
    "torch.cuda.device_count()"
   ]
  },
  {
   "cell_type": "code",
   "execution_count": 6,
   "id": "85bc7b7d-9c76-4db5-aa15-064b771456b4",
   "metadata": {},
   "outputs": [
    {
     "data": {
      "text/plain": [
       "{1: 'data (prepare and load)',\n",
       " 2: 'build model',\n",
       " 3: 'fitting the model to data (training)',\n",
       " 4: 'making predicitions and evaluting a model (inference)',\n",
       " 5: 'saving and loading a model',\n",
       " 6: 'putting all together'}"
      ]
     },
     "execution_count": 6,
     "metadata": {},
     "output_type": "execute_result"
    }
   ],
   "source": [
    "what_were_covering = {\n",
    "                        1: \"data (prepare and load)\",\n",
    "                        2: \"build model\",\n",
    "                        3: \"fitting the model to data (training)\",\n",
    "                        4: \"making predicitions and evaluting a model (inference)\",\n",
    "                        5: \"saving and loading a model\",\n",
    "                        6: \"putting all together\"\n",
    "                        }\n",
    "what_were_covering"
   ]
  },
  {
   "cell_type": "code",
   "execution_count": 7,
   "id": "e3300018-7195-4c9d-b6df-8a6bb77e4b2e",
   "metadata": {},
   "outputs": [
    {
     "name": "stdout",
     "output_type": "stream",
     "text": [
      "PyTorch version:  2.5.1\n",
      "CUDA Available: True\n",
      "PyTorch-Cuda version:  12.4\n",
      "Device name:  NVIDIA GeForce GTX 1650\n"
     ]
    }
   ],
   "source": [
    "# nn contains all of PyTorch's building block for Neural Networks\n",
    "import matplotlib.pyplot as plt\n",
    "import torch\n",
    "from torch import nn \n",
    "print(\"PyTorch version: \",torch.__version__)\n",
    "print(\"CUDA Available:\", torch.cuda.is_available()) # checks for GPU access with PyTorch\n",
    "print(\"PyTorch-Cuda version: \",torch.version.cuda) \n",
    "print(\"Device name: \", torch.cuda.get_device_name(0))"
   ]
  },
  {
   "cell_type": "markdown",
   "id": "0ea4c41c-54a5-49d2-8092-0d5781084a4b",
   "metadata": {},
   "source": [
    "## 1. Data: preparing and loading\n",
    "\n",
    "Data can be almost anything in Machine Learning (ML).\n",
    "\n",
    "- Exceel speadsheet;\n",
    "- Images of any kind;\n",
    "- Videos (YouTube is a whole Data Bank);\n",
    "- Audio (Songs or PodCasts);\n",
    "- DNA;\n",
    "- Texts;\n",
    "\n",
    "ML is a game of two parts:\n",
    "1. Get data into a numerical representations;\n",
    "2. Build a model to learn patterns into that numerical representation.\n",
    "\n",
    "To showcase this, let's create some *known* data using the linear regression formula.\n",
    "\n",
    "Use a linear regression formula to mkae a straight line with *known* **parameters**."
   ]
  },
  {
   "cell_type": "code",
   "execution_count": 9,
   "id": "0ee8b8e6-5ffe-4e7f-88bb-5dbcdf46de5d",
   "metadata": {
    "scrolled": true
   },
   "outputs": [
    {
     "name": "stdout",
     "output_type": "stream",
     "text": [
      "The first 10 elements from X: \n",
      "tensor([[0.0000],\n",
      "        [0.0200],\n",
      "        [0.0400],\n",
      "        [0.0600],\n",
      "        [0.0800],\n",
      "        [0.1000],\n",
      "        [0.1200],\n",
      "        [0.1400],\n",
      "        [0.1600],\n",
      "        [0.1800]])\n",
      "\n",
      "The first 10 elements from y: \n",
      "tensor([[0.3000],\n",
      "        [0.3140],\n",
      "        [0.3280],\n",
      "        [0.3420],\n",
      "        [0.3560],\n",
      "        [0.3700],\n",
      "        [0.3840],\n",
      "        [0.3980],\n",
      "        [0.4120],\n",
      "        [0.4260]])\n"
     ]
    }
   ],
   "source": [
    "# Create *known* parameters (y = m*x + n)\n",
    "weight = 0.7 # equivalent to m\n",
    "bias = 0.3 # equivalent to n\n",
    "\n",
    "# These values are already known by the porgrammer, what ML/DL does is to estimate these values.\n",
    "start = 0\n",
    "end = 1\n",
    "step = 0.02\n",
    "X = torch.arange(start, end, step).unsqueeze(dim = 1) # Remind: unsqueeze add's an extra dim.\n",
    "y = weight*X + bias\n",
    "print(f\"The first 10 elements from X: \\n{X[:10]}\")\n",
    "print(f\"\\nThe first 10 elements from y: \\n{y[:10]}\")"
   ]
  },
  {
   "cell_type": "code",
   "execution_count": 10,
   "id": "0aea892f-b4c3-44c5-a1e7-312fab29ad3d",
   "metadata": {},
   "outputs": [
    {
     "name": "stdout",
     "output_type": "stream",
     "text": [
      "Number os elements in X: 50\n",
      "Number of elements in y: 50\n"
     ]
    }
   ],
   "source": [
    "print(f\"Number os elements in X: {len(X)}\") \n",
    "print(f\"Number of elements in y: {len(y)}\")"
   ]
  },
  {
   "cell_type": "markdown",
   "id": "1c0f5a2f-4f77-4255-b1db-2c0d0efc64c9",
   "metadata": {},
   "source": [
    "### Spliting data into training test sets: One of the **most important concepts in ML** in general.\n",
    "\n",
    "Three types of datasets:\n",
    "- `Training set`: Model learns patterns from here (course materials):\n",
    "- `Validation set`: Tune model patterns (practice exam);\n",
    "- `Test set`: See if the model is ready for the wild (final exam);\n",
    "\n",
    "`Generalization`: The ability for a ML Model to perform well on data it hasn't seen before.\n",
    "\n",
    "Info: https://www.learnpytorch.io/01_pytorch_workflow/"
   ]
  },
  {
   "cell_type": "code",
   "execution_count": 12,
   "id": "d6644460-c750-43c1-88c4-fdcdb12d8319",
   "metadata": {},
   "outputs": [
    {
     "data": {
      "text/plain": [
       "(40, 40, 10, 10)"
      ]
     },
     "execution_count": 12,
     "metadata": {},
     "output_type": "execute_result"
    }
   ],
   "source": [
    "# Create a train split/test split\n",
    "train_split = int(0.8 * len(X)) \n",
    "X_train, y_train = X[:train_split], y[:train_split] # 40% of the dataset for each (total of 80%)\n",
    "X_test, y_test = X[train_split:], y[train_split:] # the rest ~ 10% for each (total of 20%)\n",
    "\n",
    "len(X_train), len(y_train), len(X_test), len(y_test)"
   ]
  },
  {
   "cell_type": "markdown",
   "id": "a59a97c3-d80d-4590-90a7-7862a56f27d9",
   "metadata": {},
   "source": [
    "#### How might we better visualize datas?\n",
    "This is where the data explorer's motto comes in!\n",
    "\n",
    "\"Visualize, visualize, visualize. . .\""
   ]
  },
  {
   "cell_type": "code",
   "execution_count": 14,
   "id": "880a06a7-c210-4e67-ac9f-f86666103b5a",
   "metadata": {
    "scrolled": true
   },
   "outputs": [
    {
     "data": {
      "text/plain": [
       "(tensor([[0.0000],\n",
       "         [0.0200],\n",
       "         [0.0400],\n",
       "         [0.0600],\n",
       "         [0.0800],\n",
       "         [0.1000],\n",
       "         [0.1200],\n",
       "         [0.1400],\n",
       "         [0.1600],\n",
       "         [0.1800],\n",
       "         [0.2000],\n",
       "         [0.2200],\n",
       "         [0.2400],\n",
       "         [0.2600],\n",
       "         [0.2800],\n",
       "         [0.3000],\n",
       "         [0.3200],\n",
       "         [0.3400],\n",
       "         [0.3600],\n",
       "         [0.3800],\n",
       "         [0.4000],\n",
       "         [0.4200],\n",
       "         [0.4400],\n",
       "         [0.4600],\n",
       "         [0.4800],\n",
       "         [0.5000],\n",
       "         [0.5200],\n",
       "         [0.5400],\n",
       "         [0.5600],\n",
       "         [0.5800],\n",
       "         [0.6000],\n",
       "         [0.6200],\n",
       "         [0.6400],\n",
       "         [0.6600],\n",
       "         [0.6800],\n",
       "         [0.7000],\n",
       "         [0.7200],\n",
       "         [0.7400],\n",
       "         [0.7600],\n",
       "         [0.7800]]),\n",
       " tensor([[0.3000],\n",
       "         [0.3140],\n",
       "         [0.3280],\n",
       "         [0.3420],\n",
       "         [0.3560],\n",
       "         [0.3700],\n",
       "         [0.3840],\n",
       "         [0.3980],\n",
       "         [0.4120],\n",
       "         [0.4260],\n",
       "         [0.4400],\n",
       "         [0.4540],\n",
       "         [0.4680],\n",
       "         [0.4820],\n",
       "         [0.4960],\n",
       "         [0.5100],\n",
       "         [0.5240],\n",
       "         [0.5380],\n",
       "         [0.5520],\n",
       "         [0.5660],\n",
       "         [0.5800],\n",
       "         [0.5940],\n",
       "         [0.6080],\n",
       "         [0.6220],\n",
       "         [0.6360],\n",
       "         [0.6500],\n",
       "         [0.6640],\n",
       "         [0.6780],\n",
       "         [0.6920],\n",
       "         [0.7060],\n",
       "         [0.7200],\n",
       "         [0.7340],\n",
       "         [0.7480],\n",
       "         [0.7620],\n",
       "         [0.7760],\n",
       "         [0.7900],\n",
       "         [0.8040],\n",
       "         [0.8180],\n",
       "         [0.8320],\n",
       "         [0.8460]]))"
      ]
     },
     "execution_count": 14,
     "metadata": {},
     "output_type": "execute_result"
    }
   ],
   "source": [
    "X_train, y_train"
   ]
  },
  {
   "cell_type": "code",
   "execution_count": 15,
   "id": "c68fb721-18cd-42ba-95e5-a74b5b67f6b0",
   "metadata": {},
   "outputs": [],
   "source": [
    "def plot_predictions(train_data=X_train,\n",
    "                    train_labels=y_train,\n",
    "                    test_data=X_test,\n",
    "                    test_labels=y_test,\n",
    "                    predictions=None):\n",
    "    \"\"\"\n",
    "    Plots training data, test data and compares predictions.\n",
    "    \"\"\"\n",
    "    plt.figure(figsize = (10, 7))\n",
    "    \n",
    "    # Plot training data in blue\n",
    "    plt.scatter(train_data, train_labels, c = \"b\", s = 4, label = \"Training data\")\n",
    "\n",
    "    # Plot test data in green\n",
    "    plt.scatter(test_data, test_labels, c = \"g\", s = 4, label = \"Testing data\")\n",
    "\n",
    "    # Are there predicitions?\n",
    "    if predictions is not None:\n",
    "        # Plot the predicitions if they exist\n",
    "        plt.scatter(test_data, predictions, c = \"r\", s = 4, label = \"Predictions\")\n",
    "\n",
    "    # Show the legend\n",
    "    plt.legend(prop={\"size\": 14});"
   ]
  },
  {
   "cell_type": "code",
   "execution_count": 16,
   "id": "eee1c0a6-4271-46e7-8bd9-7148c6f45f37",
   "metadata": {},
   "outputs": [
    {
     "data": {
      "image/png": "[encoded data removed]",
      "text/plain": [
       "<Figure size 1000x700 with 1 Axes>"
      ]
     },
     "metadata": {},
     "output_type": "display_data"
    }
   ],
   "source": [
    "plot_predictions();"
   ]
  },
  {
   "cell_type": "markdown",
   "id": "1e300b4b-c9d7-4574-bbf8-1b1b25cec267",
   "metadata": {},
   "source": [
    "## 2. Build Model\n",
    "My first PyTorch model! :p\n",
    "\n",
    "It is recomended to getting familiar with OOP because at this step the use of classes can be a little bit common.\n",
    "\n",
    "`What` this primitive model `does`:\n",
    "- Start with random values (weight and bias);\n",
    "- Look at training data and adjust the random values ot better represent (or get closer to) the ideal values (the weights & bias values we used to create the data);\n",
    "\n",
    "`How does` it do so:\n",
    "Trhough two main algorithm\n",
    "1. Gradient descent;\n",
    "2. Backpropagation;\n",
    "\n",
    "`Info`: \n",
    "\n",
    "https://realpython.com/python3-object-oriented-programming/\n",
    "\n",
    "https://pytorch.org/docs/stable/generated/torch.nn.Module.html"
   ]
  },
  {
   "cell_type": "code",
   "execution_count": 18,
   "id": "4747a0d0-2f2d-47e2-8d18-8baf1e9ce67d",
   "metadata": {},
   "outputs": [
    {
     "name": "stdout",
     "output_type": "stream",
     "text": [
      "PyTorch version:  2.5.1\n",
      "CUDA Available: True\n",
      "PyTorch-Cuda version:  12.4\n",
      "Device name:  NVIDIA GeForce GTX 1650\n"
     ]
    }
   ],
   "source": [
    "# nn contains all of PyTorch's building block for Neural Networks\n",
    "import matplotlib.pyplot as plt\n",
    "import numpy as np\n",
    "import torch\n",
    "from torch import nn \n",
    "print(\"PyTorch version: \",torch.__version__)\n",
    "print(\"CUDA Available:\", torch.cuda.is_available()) # checks for GPU access with PyTorch\n",
    "print(\"PyTorch-Cuda version: \",torch.version.cuda) \n",
    "print(\"Device name: \", torch.cuda.get_device_name(0))"
   ]
  },
  {
   "cell_type": "code",
   "execution_count": 19,
   "id": "e3c311fc-d571-4ae6-8a43-6c7a1a1b3f04",
   "metadata": {},
   "outputs": [],
   "source": [
    "# Create linear regression model class\n",
    "class LinearRegressionModel(nn.Module): # <- almost everything in PyTorch inherhits from nn.Module\n",
    "    def __init__(self):\n",
    "        super().__init__()\n",
    "\n",
    "        # Initialize model parameters to be used in various computations \n",
    "        # (different layers from torch.nn, single parameters, hard-coded values or functons)\n",
    "        self.weight = nn.Parameter(torch.randn(1,\n",
    "                                                requires_grad=True,\n",
    "                                                dtype=torch.float))\n",
    "        # requires_grad=True means OyTorch'll track the gradients of this specific parameters\n",
    "        # for use with torch.autograd and gradient descent (for many torch.nn modules this is set by default)\n",
    "        self.bias = nn.Parameter(torch.randn(1,\n",
    "                                            requires_grad=True, # <- can be apdated via gradient descent?\n",
    "                                            dtype=torch.float)) # <- the default datatype in PyTorch is torch.float32\n",
    "    # Forward method to define the computation in the model\n",
    "    def forward(self, x: torch.Tensor) -> torch.Tensor: # <- \"x\" is the input data ~ training data\n",
    "        return self.weight * x + self.bias # Linear Regression formula\n",
    "        \n",
    "# If it's learning correctly will take the weight and the bias (random values)\n",
    "# and run through the Linear Regression calculation and, then, adjust the weight\n",
    "# and the bias to get closer to the already known values that had been plot blocks ago.\n"
   ]
  },
  {
   "cell_type": "markdown",
   "id": "95bb081a-7fcb-4e50-8b12-8798fecf5af4",
   "metadata": {},
   "source": [
    " ### PyTorch model building essentials\n",
    "- `torch.nn`: contains all of the buildings for computational graphs (this include NN).\n",
    "- `torch.nn.Parameter`: what parameters our model should try and learn, often a PyTorch layer from torch.nn will set these for us.\n",
    "- `torch.nn.Modules`: the base class for all the NN modules, if you subclass it, you should overwrite forward().\n",
    "- `torch.optim`: this where the optimizers in PyTorch live, they will help with gradient descent.\n",
    "- `def forward()`: All nn.Module subclasses require you to overwrite forward(), this method defines ehat happens in the forward computation.\n",
    "\n",
    "Info:\n",
    "\n",
    "https://pytorch.org/tutorials/beginner/ptcheat.html"
   ]
  },
  {
   "cell_type": "markdown",
   "id": "b5196103-6334-4570-aa5c-21b24e99454b",
   "metadata": {},
   "source": [
    "### Checking the contents of our PyTorch model\n",
    "\n",
    "Now the model was created, let's see what's inside. . .\n",
    "Is possible to check the model parameters or what's inside the model using `.parameters()`."
   ]
  },
  {
   "cell_type": "code",
   "execution_count": 22,
   "id": "df54b55c-b0c2-43d6-811b-361fa8473df7",
   "metadata": {},
   "outputs": [
    {
     "data": {
      "text/plain": [
       "[Parameter containing:\n",
       " tensor([0.3367], requires_grad=True),\n",
       " Parameter containing:\n",
       " tensor([0.1288], requires_grad=True)]"
      ]
     },
     "execution_count": 22,
     "metadata": {},
     "output_type": "execute_result"
    }
   ],
   "source": [
    "# Create a random seed\n",
    "torch.manual_seed(42)\n",
    "\n",
    "# Create an instance of the model (this is a subclass of nn.Modules)\n",
    "model_0 = LinearRegressionModel()\n",
    "\n",
    "# Check out the parameters\n",
    "list(model_0.parameters())"
   ]
  },
  {
   "cell_type": "code",
   "execution_count": 23,
   "id": "5568db89-2a1d-4b17-99c8-f2bb8abfc55b",
   "metadata": {},
   "outputs": [
    {
     "data": {
      "text/plain": [
       "OrderedDict([('weight', tensor([0.3367])), ('bias', tensor([0.1288]))])"
      ]
     },
     "execution_count": 23,
     "metadata": {},
     "output_type": "execute_result"
    }
   ],
   "source": [
    "# List named parameters\n",
    "model_0.state_dict()"
   ]
  },
  {
   "cell_type": "markdown",
   "id": "941a7862-691b-4100-84ec-43dbe5f2137e",
   "metadata": {},
   "source": [
    "## Making predictions using `torch.inference_mode()`\n",
    "\n",
    "To check the model's predictive power, it's needed `how well` it `predicts` on `y_test` based on `X_test`.\n",
    "When data pass through the model, it's going to run it through th eforward() method."
   ]
  },
  {
   "cell_type": "code",
   "execution_count": 25,
   "id": "1c1a2bb1-0959-44fe-9a3b-d9c63ea7834b",
   "metadata": {},
   "outputs": [
    {
     "data": {
      "text/plain": [
       "tensor([[0.3982],\n",
       "        [0.4049],\n",
       "        [0.4116],\n",
       "        [0.4184],\n",
       "        [0.4251],\n",
       "        [0.4318],\n",
       "        [0.4386],\n",
       "        [0.4453],\n",
       "        [0.4520],\n",
       "        [0.4588]])"
      ]
     },
     "execution_count": 25,
     "metadata": {},
     "output_type": "execute_result"
    }
   ],
   "source": [
    "# Make predictions with model\n",
    "with torch.inference_mode():\n",
    "    y_preds = model_0(X_test)\n",
    "\n",
    "# You can also do something simllar with torch.no_grad(), however, inference_mode() is preferred\n",
    "# with torch.no_grad():\n",
    "#     y_preds = model_0(X_test)\n",
    "    \n",
    "y_preds    "
   ]
  },
  {
   "cell_type": "code",
   "execution_count": 26,
   "id": "d940075c-0dc6-4c6e-bfba-b0dd0267338c",
   "metadata": {},
   "outputs": [
    {
     "data": {
      "text/plain": [
       "tensor([[0.8600],\n",
       "        [0.8740],\n",
       "        [0.8880],\n",
       "        [0.9020],\n",
       "        [0.9160],\n",
       "        [0.9300],\n",
       "        [0.9440],\n",
       "        [0.9580],\n",
       "        [0.9720],\n",
       "        [0.9860]])"
      ]
     },
     "execution_count": 26,
     "metadata": {},
     "output_type": "execute_result"
    }
   ],
   "source": [
    "y_test"
   ]
  },
  {
   "cell_type": "code",
   "execution_count": 27,
   "id": "1bd0649f-86b3-4fb1-be30-7f1cedbd800f",
   "metadata": {},
   "outputs": [
    {
     "data": {
      "image/png": "[encoded data removed]",
      "text/plain": [
       "<Figure size 1000x700 with 1 Axes>"
      ]
     },
     "metadata": {},
     "output_type": "display_data"
    }
   ],
   "source": [
    "plot_predictions(predictions=y_preds);"
   ]
  },
  {
   "cell_type": "markdown",
   "id": "5da875a3-2610-4581-913a-d9c6a711b634",
   "metadata": {},
   "source": [
    "## 3. Train model\n",
    "\n",
    "The whole idea of training is for a model to move from some *unkown* parameters (these may be random) to some *known* parameters.\n",
    "\n",
    "Or, in other words, form a poor representation for a better representation of the data.\n",
    "\n",
    "One way to *measure* *how poor*, or *how wrong*, the models *predictions are* is to use a *Loss Function*.\n",
    "\n",
    "- **Note**: Loss Functions may also be called cost function or criterion in different areas. For our case, we're going to refer to it as a loss function.\n",
    "\n",
    "Things needed to train:\n",
    "  \n",
    "- `Loss Function`: A function to measure how wrong your model's predictions are to the ideal outputs, lower is better.\n",
    "\n",
    "    Info: https://pytorch.org/docs/stable/nn.html#loss-functions\n",
    "  \n",
    "- `Optimizer`: Takes into account the loss of a model and adjusts the model's parameters (weight and bias) to improve the loss function.\n",
    "\n",
    "    Info: https://pytorch.org/docs/stable/optim.html\n",
    "\n",
    "\n",
    "And specifically for PyTorch, it's needed:\n",
    "- A training loop\n",
    "- A testing loop"
   ]
  },
  {
   "cell_type": "code",
   "execution_count": 29,
   "id": "4c0cff98-cafe-4686-8e2c-68a4f510b7b6",
   "metadata": {},
   "outputs": [
    {
     "data": {
      "text/plain": [
       "[Parameter containing:\n",
       " tensor([0.3367], requires_grad=True),\n",
       " Parameter containing:\n",
       " tensor([0.1288], requires_grad=True)]"
      ]
     },
     "execution_count": 29,
     "metadata": {},
     "output_type": "execute_result"
    }
   ],
   "source": [
    "list(model_0.parameters())"
   ]
  },
  {
   "cell_type": "code",
   "execution_count": 30,
   "id": "97e0b6b8-aa3f-4141-a057-a388eae3e758",
   "metadata": {},
   "outputs": [
    {
     "data": {
      "text/plain": [
       "OrderedDict([('weight', tensor([0.3367])), ('bias', tensor([0.1288]))])"
      ]
     },
     "execution_count": 30,
     "metadata": {},
     "output_type": "execute_result"
    }
   ],
   "source": [
    "# CHeck out model'parameters (a parameters is a value that the model sets itself)\n",
    "model_0.state_dict()"
   ]
  },
  {
   "cell_type": "code",
   "execution_count": 31,
   "id": "72e6e582-b274-45ad-8426-aebd7c11999f",
   "metadata": {},
   "outputs": [],
   "source": [
    "#Setup a Loss Function\n",
    "loss_fn = nn.L1Loss() # Mean Absolute Error (MAE)\n",
    "\n",
    "#Setup an Optimizer\n",
    "optimizer = torch.optim.SGD(params=model_0.parameters(), # Sthocastic (random) Grandient Descent \n",
    "                           lr=0.01) # lr = Learning Rate ~ possibly the most important learning hyperparameter you can set"
   ]
  },
  {
   "cell_type": "markdown",
   "id": "d6cb9a24-cffb-46ab-ba47-054989e69671",
   "metadata": {},
   "source": [
    "### Building a training loop (and a testing loop) in PyTorch\n",
    "A couple of things we need in a training loop:\n",
    "\n",
    "0. Loop through the data\n",
    "1. Forward pass (this involves data moving through our model's `forward()` functions) to make predicitons on data -  also called forward propagation\n",
    "2. Calculate the loss (compare forward pass predictions to ground truth labels)\n",
    "3. Optimizer zero grad\n",
    "4. `Loss backward`: move beackwards through the network to calculate the gradient of each of the parameters of our model with respect to the loss (**backpropagation**)\n",
    "5. `Optimizer step`: use the optimizer to adjust our model's parameters to try and improve the loss (**gradient descent**)"
   ]
  },
  {
   "cell_type": "code",
   "execution_count": 33,
   "id": "35d89c37-5012-4305-87a2-2c6ace296463",
   "metadata": {
    "scrolled": true
   },
   "outputs": [
    {
     "name": "stdout",
     "output_type": "stream",
     "text": [
      "Epoch: 0 | Loss: 0.31288138031959534 | Tets Loss: 0.48106518387794495\n",
      "OrderedDict([('weight', tensor([0.3406])), ('bias', tensor([0.1388]))])\n",
      "Epoch: 10 | Loss: 0.1976713240146637 | Tets Loss: 0.3463551998138428\n",
      "OrderedDict([('weight', tensor([0.3796])), ('bias', tensor([0.2388]))])\n",
      "Epoch: 20 | Loss: 0.08908725529909134 | Tets Loss: 0.21729660034179688\n",
      "OrderedDict([('weight', tensor([0.4184])), ('bias', tensor([0.3333]))])\n",
      "Epoch: 30 | Loss: 0.053148526698350906 | Tets Loss: 0.14464017748832703\n",
      "OrderedDict([('weight', tensor([0.4512])), ('bias', tensor([0.3768]))])\n",
      "Epoch: 40 | Loss: 0.04543796554207802 | Tets Loss: 0.11360953003168106\n",
      "OrderedDict([('weight', tensor([0.4748])), ('bias', tensor([0.3868]))])\n",
      "Epoch: 50 | Loss: 0.04167863354086876 | Tets Loss: 0.09919948130846024\n",
      "OrderedDict([('weight', tensor([0.4938])), ('bias', tensor([0.3843]))])\n",
      "Epoch: 60 | Loss: 0.03818932920694351 | Tets Loss: 0.08886633068323135\n",
      "OrderedDict([('weight', tensor([0.5116])), ('bias', tensor([0.3788]))])\n",
      "Epoch: 70 | Loss: 0.03476089984178543 | Tets Loss: 0.0805937647819519\n",
      "OrderedDict([('weight', tensor([0.5288])), ('bias', tensor([0.3718]))])\n",
      "Epoch: 80 | Loss: 0.03132382780313492 | Tets Loss: 0.07232122868299484\n",
      "OrderedDict([('weight', tensor([0.5459])), ('bias', tensor([0.3648]))])\n",
      "Epoch: 90 | Loss: 0.02788739837706089 | Tets Loss: 0.06473556160926819\n",
      "OrderedDict([('weight', tensor([0.5629])), ('bias', tensor([0.3573]))])\n",
      "Epoch: 100 | Loss: 0.024458957836031914 | Tets Loss: 0.05646304413676262\n",
      "OrderedDict([('weight', tensor([0.5800])), ('bias', tensor([0.3503]))])\n",
      "Epoch: 110 | Loss: 0.021020207554101944 | Tets Loss: 0.04819049686193466\n",
      "OrderedDict([('weight', tensor([0.5972])), ('bias', tensor([0.3433]))])\n",
      "Epoch: 120 | Loss: 0.01758546568453312 | Tets Loss: 0.04060482233762741\n",
      "OrderedDict([('weight', tensor([0.6141])), ('bias', tensor([0.3358]))])\n",
      "Epoch: 130 | Loss: 0.014155393466353416 | Tets Loss: 0.03233227878808975\n",
      "OrderedDict([('weight', tensor([0.6313])), ('bias', tensor([0.3288]))])\n",
      "Epoch: 140 | Loss: 0.010716589167714119 | Tets Loss: 0.024059748277068138\n",
      "OrderedDict([('weight', tensor([0.6485])), ('bias', tensor([0.3218]))])\n",
      "Epoch: 150 | Loss: 0.0072835334576666355 | Tets Loss: 0.016474086791276932\n",
      "OrderedDict([('weight', tensor([0.6654])), ('bias', tensor([0.3143]))])\n",
      "Epoch: 160 | Loss: 0.0038517764769494534 | Tets Loss: 0.008201557211577892\n",
      "OrderedDict([('weight', tensor([0.6826])), ('bias', tensor([0.3073]))])\n",
      "Epoch: 170 | Loss: 0.008932482451200485 | Tets Loss: 0.005023092031478882\n",
      "OrderedDict([('weight', tensor([0.6951])), ('bias', tensor([0.2993]))])\n",
      "Epoch: 180 | Loss: 0.008932482451200485 | Tets Loss: 0.005023092031478882\n",
      "OrderedDict([('weight', tensor([0.6951])), ('bias', tensor([0.2993]))])\n",
      "Epoch: 190 | Loss: 0.008932482451200485 | Tets Loss: 0.005023092031478882\n",
      "OrderedDict([('weight', tensor([0.6951])), ('bias', tensor([0.2993]))])\n"
     ]
    }
   ],
   "source": [
    "# An epoch is one loop through the data. . . (is considered a hyperparameter because it is set by the programmer)\n",
    "epochs = 200\n",
    "\n",
    "# Track different values\n",
    "epoch_count = []\n",
    "loss_values = []\n",
    "test_loss_values = [] \n",
    "\n",
    "### Training\n",
    "# 0. Loop through the data - pass the data through the model for a number of epochs\n",
    "for epoch in range(epochs):\n",
    "    # Set the model to training mode - put model in training mode (this is the default state of a model)\n",
    "    model_0.train() # train mode in PyTorch set all parameters that require gradients to require gradients \n",
    "    \n",
    "    # 1. Forward pass \n",
    "    y_preds = model_0(X_train) # pass the data through the model, this will perform forward() method loccated within the model object\n",
    "\n",
    "    # 2. Calculate the loss - how wrong the model predictions are\n",
    "    loss = loss_fn(y_preds, y_train)\n",
    "    # 3. Optimizer zero grad - accumulate every epoch, zero them to start fresh each forward pass \n",
    "    optimizer.zero_grad()\n",
    "\n",
    "    # 4. Perfom backpropagation on the loss with respect to the parameters of the model\n",
    "    loss.backward() # compute the gradient of every parameter with require_grad=True\n",
    "\n",
    "    # 5. Step the optimizer (perfom gradient descent)\n",
    "    optimizer.step() # by default how the optimizer changes will acumulate through the loop\n",
    "    #so, it have to zero them above in step 3 for the next iteration of the loop\n",
    "    # Progress/step the optimizer to update the model's parameters respect to the gradients calculated by loos.backward()\n",
    "    \n",
    "    ### Testing\n",
    "    model_0.eval() # turns off gradient tracking\n",
    "\n",
    "    with torch.inference_mode(): # turns off gradient tracking & a couple more things behind\n",
    "    # with torch.no_grad(): # may also see this in older PyTorch code\n",
    "        # 1. Do the forward pass\n",
    "        test_pred = model_0(X_test)\n",
    "\n",
    "        # 2. Calculate the loss\n",
    "        test_loss = loss_fn(test_pred, y_test)\n",
    "    # print out what's happening\n",
    "    if epoch % 10 == 0:\n",
    "        epoch_count.append(epoch)\n",
    "        loss_values.append(loss)\n",
    "        test_loss_values.append(test_loss)\n",
    "        print(f\"Epoch: {epoch} | Loss: {loss} | Tets Loss: {test_loss}\")\n",
    "        print(model_0.state_dict())"
   ]
  },
  {
   "cell_type": "code",
   "execution_count": 34,
   "id": "890a0f23-22fe-42f8-bd23-bf43ace069d9",
   "metadata": {
    "scrolled": true
   },
   "outputs": [
    {
     "data": {
      "text/plain": [
       "([0,\n",
       "  10,\n",
       "  20,\n",
       "  30,\n",
       "  40,\n",
       "  50,\n",
       "  60,\n",
       "  70,\n",
       "  80,\n",
       "  90,\n",
       "  100,\n",
       "  110,\n",
       "  120,\n",
       "  130,\n",
       "  140,\n",
       "  150,\n",
       "  160,\n",
       "  170,\n",
       "  180,\n",
       "  190],\n",
       " [tensor(0.3129, grad_fn=<MeanBackward0>),\n",
       "  tensor(0.1977, grad_fn=<MeanBackward0>),\n",
       "  tensor(0.0891, grad_fn=<MeanBackward0>),\n",
       "  tensor(0.0531, grad_fn=<MeanBackward0>),\n",
       "  tensor(0.0454, grad_fn=<MeanBackward0>),\n",
       "  tensor(0.0417, grad_fn=<MeanBackward0>),\n",
       "  tensor(0.0382, grad_fn=<MeanBackward0>),\n",
       "  tensor(0.0348, grad_fn=<MeanBackward0>),\n",
       "  tensor(0.0313, grad_fn=<MeanBackward0>),\n",
       "  tensor(0.0279, grad_fn=<MeanBackward0>),\n",
       "  tensor(0.0245, grad_fn=<MeanBackward0>),\n",
       "  tensor(0.0210, grad_fn=<MeanBackward0>),\n",
       "  tensor(0.0176, grad_fn=<MeanBackward0>),\n",
       "  tensor(0.0142, grad_fn=<MeanBackward0>),\n",
       "  tensor(0.0107, grad_fn=<MeanBackward0>),\n",
       "  tensor(0.0073, grad_fn=<MeanBackward0>),\n",
       "  tensor(0.0039, grad_fn=<MeanBackward0>),\n",
       "  tensor(0.0089, grad_fn=<MeanBackward0>),\n",
       "  tensor(0.0089, grad_fn=<MeanBackward0>),\n",
       "  tensor(0.0089, grad_fn=<MeanBackward0>)],\n",
       " [tensor(0.4811),\n",
       "  tensor(0.3464),\n",
       "  tensor(0.2173),\n",
       "  tensor(0.1446),\n",
       "  tensor(0.1136),\n",
       "  tensor(0.0992),\n",
       "  tensor(0.0889),\n",
       "  tensor(0.0806),\n",
       "  tensor(0.0723),\n",
       "  tensor(0.0647),\n",
       "  tensor(0.0565),\n",
       "  tensor(0.0482),\n",
       "  tensor(0.0406),\n",
       "  tensor(0.0323),\n",
       "  tensor(0.0241),\n",
       "  tensor(0.0165),\n",
       "  tensor(0.0082),\n",
       "  tensor(0.0050),\n",
       "  tensor(0.0050),\n",
       "  tensor(0.0050)])"
      ]
     },
     "execution_count": 34,
     "metadata": {},
     "output_type": "execute_result"
    }
   ],
   "source": [
    "epoch_count, loss_values, test_loss_values"
   ]
  },
  {
   "cell_type": "code",
   "execution_count": 35,
   "id": "5c3b3656-29c9-4891-9842-4be457eb69da",
   "metadata": {},
   "outputs": [
    {
     "data": {
      "image/png": "[encoded data removed]",
      "text/plain": [
       "<Figure size 640x480 with 1 Axes>"
      ]
     },
     "metadata": {},
     "output_type": "display_data"
    }
   ],
   "source": [
    "plt.plot(epoch_count, np.array(torch.tensor(loss_values).numpy()), label=\"Train loss\")\n",
    "plt.plot(epoch_count, test_loss_values, label=\"Test loss\")\n",
    "plt.title(\"Training and test loss curves\")\n",
    "plt.ylabel(\"Loss\")\n",
    "plt.xlabel(\"Epochs\")\n",
    "plt.legend();"
   ]
  },
  {
   "cell_type": "code",
   "execution_count": 36,
   "id": "26133b00-706f-4a8c-856b-a0f1bd5988f0",
   "metadata": {},
   "outputs": [
    {
     "data": {
      "text/plain": [
       "OrderedDict([('weight', tensor([0.6990])), ('bias', tensor([0.3093]))])"
      ]
     },
     "execution_count": 36,
     "metadata": {},
     "output_type": "execute_result"
    }
   ],
   "source": [
    "model_0.state_dict()"
   ]
  },
  {
   "cell_type": "code",
   "execution_count": 37,
   "id": "eb01b75d-f35a-4b68-8f9a-b91615b76b17",
   "metadata": {},
   "outputs": [
    {
     "data": {
      "text/plain": [
       "(0.7, 0.3)"
      ]
     },
     "execution_count": 37,
     "metadata": {},
     "output_type": "execute_result"
    }
   ],
   "source": [
    "weight, bias"
   ]
  },
  {
   "cell_type": "code",
   "execution_count": 38,
   "id": "511c7942-7308-4d46-9ee4-efaa1ccc85f3",
   "metadata": {},
   "outputs": [],
   "source": [
    "with torch.inference_mode(): \n",
    "    y_preds_new = model_0(X_test)"
   ]
  },
  {
   "cell_type": "code",
   "execution_count": 39,
   "id": "ad47a449-4849-4cec-a677-a333dac8c4b8",
   "metadata": {},
   "outputs": [
    {
     "data": {
      "image/png": "[encoded data removed]",
      "text/plain": [
       "<Figure size 1000x700 with 1 Axes>"
      ]
     },
     "metadata": {},
     "output_type": "display_data"
    }
   ],
   "source": [
    "plot_predictions(predictions=y_preds_new)"
   ]
  },
  {
   "cell_type": "markdown",
   "id": "84b50728-65d6-43b7-b399-0d7f2aac892f",
   "metadata": {},
   "source": [
    "### saving a model in PyTorch\n",
    "\n",
    "There are three main methods it know should about fo rsaving and loading models in Pytorch.\n",
    "\n",
    "1. `torch.save()`: allows save a PyTorhc object in Python's pickle format.\n",
    "2. `torch.load()`: allows load a saved PyTorch object.\n",
    "3. `torch.nn.Module.load_state_dict()`: allows to load a model's saved state dictionary."
   ]
  },
  {
   "cell_type": "code",
   "execution_count": 41,
   "id": "2d9bda25-fef9-4378-b165-8c3d2d56e256",
   "metadata": {},
   "outputs": [
    {
     "name": "stdout",
     "output_type": "stream",
     "text": [
      "Saving model to: models/01_PyTorch_model_00.pth\n"
     ]
    }
   ],
   "source": [
    "# Saving the PyTorch model\n",
    "from pathlib import Path\n",
    "\n",
    "# 1. Create models directory\n",
    "MODEL_PATH = Path(\"models\")\n",
    "MODEL_PATH.mkdir(parents=True, exist_ok=True)\n",
    "\n",
    "# 2. Create model save path\n",
    "MODEL_NAME = \"01_PyTorch_model_00.pth\"\n",
    "MODEL_SAVE_PATH = MODEL_PATH / MODEL_NAME\n",
    "\n",
    "# 3. Save the model state dict\n",
    "print(f\"Saving model to: {MODEL_SAVE_PATH}\")\n",
    "torch.save(\n",
    "    obj=model_0.state_dict(),\n",
    "    f=MODEL_SAVE_PATH\n",
    "    )"
   ]
  },
  {
   "cell_type": "markdown",
   "id": "77a2cf2d-beaf-4a9a-a3d7-09e6baa20f9b",
   "metadata": {},
   "source": [
    "### loading a PyTorch model\n",
    "Since the model's `state_dict()` rather the entire model, create a new instance of the model class and load the saved state_dict() into that."
   ]
  },
  {
   "cell_type": "code",
   "execution_count": 43,
   "id": "c8535399-c1c7-4865-9c8c-ae3a8b4e8ea3",
   "metadata": {},
   "outputs": [
    {
     "data": {
      "text/plain": [
       "OrderedDict([('weight', tensor([0.6990])), ('bias', tensor([0.3093]))])"
      ]
     },
     "execution_count": 43,
     "metadata": {},
     "output_type": "execute_result"
    }
   ],
   "source": [
    "model_0.state_dict()"
   ]
  },
  {
   "cell_type": "code",
   "execution_count": 44,
   "id": "24eed488-52f1-4ae9-a826-10724dd414fc",
   "metadata": {},
   "outputs": [
    {
     "name": "stderr",
     "output_type": "stream",
     "text": [
      "/tmp/ipykernel_21204/2034394018.py:5: FutureWarning: You are using `torch.load` with `weights_only=False` (the current default value), which uses the default pickle module implicitly. It is possible to construct malicious pickle data which will execute arbitrary code during unpickling (See https://github.com/pytorch/pytorch/blob/main/SECURITY.md#untrusted-models for more details). In a future release, the default value for `weights_only` will be flipped to `True`. This limits the functions that could be executed during unpickling. Arbitrary objects will no longer be allowed to be loaded via this mode unless they are explicitly allowlisted by the user via `torch.serialization.add_safe_globals`. We recommend you start setting `weights_only=True` for any use case where you don't have full control of the loaded file. Please open an issue on GitHub for any issues related to this experimental feature.\n",
      "  loaded_model_0.load_state_dict(torch.load(f=MODEL_SAVE_PATH))\n"
     ]
    },
    {
     "data": {
      "text/plain": [
       "<All keys matched successfully>"
      ]
     },
     "execution_count": 44,
     "metadata": {},
     "output_type": "execute_result"
    }
   ],
   "source": [
    "# To load in a saved state_dict, instantiate a new instance of the model class\n",
    "loaded_model_0 = LinearRegressionModel()\n",
    "\n",
    "# Load the saved state_dict of model_0 (this will update the new instance with updated parameters)\n",
    "loaded_model_0.load_state_dict(torch.load(f=MODEL_SAVE_PATH))"
   ]
  },
  {
   "cell_type": "code",
   "execution_count": 45,
   "id": "d951b195-3980-4c7c-a731-f55f62edd78b",
   "metadata": {},
   "outputs": [
    {
     "data": {
      "text/plain": [
       "OrderedDict([('weight', tensor([0.6990])), ('bias', tensor([0.3093]))])"
      ]
     },
     "execution_count": 45,
     "metadata": {},
     "output_type": "execute_result"
    }
   ],
   "source": [
    "loaded_model_0.state_dict()"
   ]
  },
  {
   "cell_type": "code",
   "execution_count": 46,
   "id": "b95879ef-6f89-48c7-a6b9-d821ea5e6f8b",
   "metadata": {},
   "outputs": [
    {
     "data": {
      "text/plain": [
       "tensor([[0.8685],\n",
       "        [0.8825],\n",
       "        [0.8965],\n",
       "        [0.9105],\n",
       "        [0.9245],\n",
       "        [0.9384],\n",
       "        [0.9524],\n",
       "        [0.9664],\n",
       "        [0.9804],\n",
       "        [0.9944]])"
      ]
     },
     "execution_count": 46,
     "metadata": {},
     "output_type": "execute_result"
    }
   ],
   "source": [
    "# Make some predicitions with the loaded model\n",
    "loaded_model_0.eval()\n",
    "with torch.inference_mode():\n",
    "    loaded_model_preds = loaded_model_0(X_test)\n",
    "\n",
    "loaded_model_preds"
   ]
  },
  {
   "cell_type": "code",
   "execution_count": 47,
   "id": "79ffc0e1-1a71-4716-93a9-d81b09de4ff2",
   "metadata": {},
   "outputs": [],
   "source": [
    "# Make some model predicitions \n",
    "model_0.eval()\n",
    "with torch.inference_mode():\n",
    "    y_preds = loaded_model_0(X_test)"
   ]
  },
  {
   "cell_type": "code",
   "execution_count": 48,
   "id": "a93ade59-6491-4bf0-b4d3-791c69800f03",
   "metadata": {},
   "outputs": [
    {
     "data": {
      "text/plain": [
       "tensor([[True],\n",
       "        [True],\n",
       "        [True],\n",
       "        [True],\n",
       "        [True],\n",
       "        [True],\n",
       "        [True],\n",
       "        [True],\n",
       "        [True],\n",
       "        [True]])"
      ]
     },
     "execution_count": 48,
     "metadata": {},
     "output_type": "execute_result"
    }
   ],
   "source": [
    "# Compare loaded model preds with the original model preds\n",
    "y_preds == loaded_model_preds"
   ]
  },
  {
   "cell_type": "markdown",
   "id": "e803b1b6-c768-4242-b418-4dec74fa7cba",
   "metadata": {},
   "source": [
    "## 6. Putting it all together\n",
    "Let's go back through the steps above and see it all in one place"
   ]
  },
  {
   "cell_type": "code",
   "execution_count": 50,
   "id": "141f048c-739d-4509-8759-2739c7d60135",
   "metadata": {},
   "outputs": [
    {
     "name": "stdout",
     "output_type": "stream",
     "text": [
      "PyTorch version:  2.5.1\n",
      "CUDA Available: True\n",
      "PyTorch-Cuda version:  12.4\n",
      "Device name:  NVIDIA GeForce GTX 1650\n"
     ]
    }
   ],
   "source": [
    "# Import PyTorch and matplotlib\n",
    "import matplotlib.pyplot as plt\n",
    "import numpy as np\n",
    "import torch\n",
    "from torch import nn \n",
    "print(\"PyTorch version: \",torch.__version__)\n",
    "print(\"CUDA Available:\", torch.cuda.is_available()) # checks for GPU access with PyTorch\n",
    "print(\"PyTorch-Cuda version: \",torch.version.cuda) \n",
    "print(\"Device name: \", torch.cuda.get_device_name(0))"
   ]
  },
  {
   "cell_type": "markdown",
   "id": "ee434a4d-f488-4e34-8bed-44af946e220c",
   "metadata": {},
   "source": [
    "### 6.1 Data"
   ]
  },
  {
   "cell_type": "code",
   "execution_count": 90,
   "id": "6a03d032-a3ef-4402-9898-7f687b4af500",
   "metadata": {
    "scrolled": true
   },
   "outputs": [
    {
     "data": {
      "text/plain": [
       "(tensor([[0.0000],\n",
       "         [0.0200],\n",
       "         [0.0400],\n",
       "         [0.0600],\n",
       "         [0.0800],\n",
       "         [0.1000],\n",
       "         [0.1200],\n",
       "         [0.1400],\n",
       "         [0.1600],\n",
       "         [0.1800]]),\n",
       " tensor([[0.3000],\n",
       "         [0.3140],\n",
       "         [0.3280],\n",
       "         [0.3420],\n",
       "         [0.3560],\n",
       "         [0.3700],\n",
       "         [0.3840],\n",
       "         [0.3980],\n",
       "         [0.4120],\n",
       "         [0.4260]]))"
      ]
     },
     "execution_count": 90,
     "metadata": {},
     "output_type": "execute_result"
    }
   ],
   "source": [
    "# Create some data using the Linear Regression formula (y = weight*X + bias)\n",
    "weight = 0.7\n",
    "bias = 0.3\n",
    "\n",
    "# Create range values\n",
    "start = 0\n",
    "end = 1\n",
    "step =  0.02\n",
    "\n",
    "# Create X and y (features and labels)\n",
    "X = torch.arange(start, end, step).unsqueeze(dim=1) # without unsqueeze, errors'll pop up\n",
    "y = weight * X + bias\n",
    "X[:10], y[:10]"
   ]
  },
  {
   "cell_type": "code",
   "execution_count": 92,
   "id": "84837d3d-0942-414e-aac8-c8ec20e6ddb3",
   "metadata": {},
   "outputs": [
    {
     "data": {
      "text/plain": [
       "(40, 40, 10, 10)"
      ]
     },
     "execution_count": 92,
     "metadata": {},
     "output_type": "execute_result"
    }
   ],
   "source": [
    "# Split data\n",
    "train_split = int(0.8 * len(X))\n",
    "X_train, y_train = X[:train_split], y[:train_split]\n",
    "X_test, y_test = X[train_split:], y[train_split:]\n",
    "len(X_train), len(y_train), len(X_test), len(y_test)"
   ]
  },
  {
   "cell_type": "code",
   "execution_count": 98,
   "id": "72335f68-b389-4a47-a06e-8a35cbba21a0",
   "metadata": {},
   "outputs": [
    {
     "data": {
      "image/png": "[encoded data removed]",
      "text/plain": [
       "<Figure size 1000x700 with 1 Axes>"
      ]
     },
     "metadata": {},
     "output_type": "display_data"
    }
   ],
   "source": [
    "# PLot the data\n",
    "plot_predictions(X_train, y_train, X_test, y_test)"
   ]
  },
  {
   "cell_type": "markdown",
   "id": "78841167-008d-40a8-a3ff-3d1ec73fdb34",
   "metadata": {},
   "source": [
    "## 6.2 Building a PyTorch Linear Model"
   ]
  },
  {
   "cell_type": "code",
   "execution_count": 136,
   "id": "bf25d5f3-81fa-4cfd-b3f7-9b6a77991615",
   "metadata": {},
   "outputs": [
    {
     "data": {
      "text/plain": [
       "(LinearRegressionModel_v2(\n",
       "   (linear_layer): Linear(in_features=1, out_features=1, bias=True)\n",
       " ),\n",
       " OrderedDict([('linear_layer.weight', tensor([[0.7645]])),\n",
       "              ('linear_layer.bias', tensor([0.8300]))]))"
      ]
     },
     "execution_count": 136,
     "metadata": {},
     "output_type": "execute_result"
    }
   ],
   "source": [
    "# Creating the Lienar Model by subclassing nn.Module\n",
    "class LinearRegressionModel_v2(nn.Module):\n",
    "    def __init__(self):\n",
    "        super().__init__()\n",
    "        # Use nn.Linear() for creating the model parameters / also called:\n",
    "        # linear transform, probing layer, fully connected layer, dense layer (All implementing Linear Regression)\n",
    "        self.linear_layer = nn.Linear(in_features=1,\n",
    "                                        out_features=1)\n",
    "    # defines the computation in the model\n",
    "    def forward(self, x: torch.Tensor) -> torch.Tensor:\n",
    "        return self.linear_layer(x)\n",
    "\n",
    "# Set the manual seed\n",
    "torch.manual_seed(42)\n",
    "model_01 = LinearRegressionModel_v2()\n",
    "model_01, model_01.state_dict()"
   ]
  },
  {
   "cell_type": "code",
   "execution_count": 138,
   "id": "5f4b5fde-8197-4300-8dd4-31ea23fa81e8",
   "metadata": {},
   "outputs": [
    {
     "data": {
      "text/plain": [
       "device(type='cpu')"
      ]
     },
     "execution_count": 138,
     "metadata": {},
     "output_type": "execute_result"
    }
   ],
   "source": [
    "# Check the model current device\n",
    "next(model_01.parameters()).device"
   ]
  },
  {
   "cell_type": "code",
   "execution_count": 140,
   "id": "bfc1838b-0ebe-447e-8284-e6a577fb86ba",
   "metadata": {},
   "outputs": [
    {
     "data": {
      "text/plain": [
       "device(type='cuda', index=0)"
      ]
     },
     "execution_count": 140,
     "metadata": {},
     "output_type": "execute_result"
    }
   ],
   "source": [
    "# Set the model to use the target device\n",
    "model_01.to(device)\n",
    "next(model_01.parameters()).device"
   ]
  },
  {
   "cell_type": "code",
   "execution_count": 142,
   "id": "5f8ac1b8-3b46-41f5-bf40-a568da9dec60",
   "metadata": {},
   "outputs": [
    {
     "data": {
      "text/plain": [
       "OrderedDict([('linear_layer.weight', tensor([[0.7645]], device='cuda:0')),\n",
       "             ('linear_layer.bias', tensor([0.8300], device='cuda:0'))])"
      ]
     },
     "execution_count": 142,
     "metadata": {},
     "output_type": "execute_result"
    }
   ],
   "source": [
    "model_01.state_dict()"
   ]
  },
  {
   "cell_type": "markdown",
   "id": "4e48df9d-24a6-4fac-8dab-1525a9b4017d",
   "metadata": {},
   "source": [
    "### 6.3 Training\n",
    "For training:\n",
    "- Loss Function\n",
    "- Optimizer\n",
    "- Training Loop\n",
    "- Testing Loop"
   ]
  },
  {
   "cell_type": "code",
   "execution_count": 144,
   "id": "b163674e-86be-4f81-807b-397de0e74fe2",
   "metadata": {},
   "outputs": [],
   "source": [
    "# Setup the Loss Function\n",
    "loss_fn = nn.L1Loss() # same as MAE\n",
    "\n",
    "# Setup the optimizer\n",
    "optimizer = torch.optim.SGD(params=model_01.parameters(),\n",
    "                            lr=0.01, )"
   ]
  },
  {
   "cell_type": "code",
   "execution_count": 168,
   "id": "769feebc-8d20-4ec6-95cd-761463da0af5",
   "metadata": {
    "scrolled": true
   },
   "outputs": [
    {
     "name": "stdout",
     "output_type": "stream",
     "text": [
      "\n",
      "Epoch: 0 | Loss: 0.010256479494273663 | Test Loss: 0.008447891101241112\n",
      "OrderedDict([('linear_layer.weight', tensor([[0.6968]], device='cuda:0')), ('linear_layer.bias', tensor([0.3025], device='cuda:0'))])\n",
      "\n",
      "Epoch: 10 | Loss: 0.010256479494273663 | Test Loss: 0.008447891101241112\n",
      "OrderedDict([('linear_layer.weight', tensor([[0.6968]], device='cuda:0')), ('linear_layer.bias', tensor([0.3025], device='cuda:0'))])\n",
      "\n",
      "Epoch: 20 | Loss: 0.010256479494273663 | Test Loss: 0.008447891101241112\n",
      "OrderedDict([('linear_layer.weight', tensor([[0.6968]], device='cuda:0')), ('linear_layer.bias', tensor([0.3025], device='cuda:0'))])\n",
      "\n",
      "Epoch: 30 | Loss: 0.010256479494273663 | Test Loss: 0.008447891101241112\n",
      "OrderedDict([('linear_layer.weight', tensor([[0.6968]], device='cuda:0')), ('linear_layer.bias', tensor([0.3025], device='cuda:0'))])\n",
      "\n",
      "Epoch: 40 | Loss: 0.010256479494273663 | Test Loss: 0.008447891101241112\n",
      "OrderedDict([('linear_layer.weight', tensor([[0.6968]], device='cuda:0')), ('linear_layer.bias', tensor([0.3025], device='cuda:0'))])\n",
      "\n",
      "Epoch: 50 | Loss: 0.010256479494273663 | Test Loss: 0.008447891101241112\n",
      "OrderedDict([('linear_layer.weight', tensor([[0.6968]], device='cuda:0')), ('linear_layer.bias', tensor([0.3025], device='cuda:0'))])\n",
      "\n",
      "Epoch: 60 | Loss: 0.010256479494273663 | Test Loss: 0.008447891101241112\n",
      "OrderedDict([('linear_layer.weight', tensor([[0.6968]], device='cuda:0')), ('linear_layer.bias', tensor([0.3025], device='cuda:0'))])\n",
      "\n",
      "Epoch: 70 | Loss: 0.010256479494273663 | Test Loss: 0.008447891101241112\n",
      "OrderedDict([('linear_layer.weight', tensor([[0.6968]], device='cuda:0')), ('linear_layer.bias', tensor([0.3025], device='cuda:0'))])\n",
      "\n",
      "Epoch: 80 | Loss: 0.010256479494273663 | Test Loss: 0.008447891101241112\n",
      "OrderedDict([('linear_layer.weight', tensor([[0.6968]], device='cuda:0')), ('linear_layer.bias', tensor([0.3025], device='cuda:0'))])\n",
      "\n",
      "Epoch: 90 | Loss: 0.010256479494273663 | Test Loss: 0.008447891101241112\n",
      "OrderedDict([('linear_layer.weight', tensor([[0.6968]], device='cuda:0')), ('linear_layer.bias', tensor([0.3025], device='cuda:0'))])\n",
      "\n",
      "Epoch: 100 | Loss: 0.010256479494273663 | Test Loss: 0.008447891101241112\n",
      "OrderedDict([('linear_layer.weight', tensor([[0.6968]], device='cuda:0')), ('linear_layer.bias', tensor([0.3025], device='cuda:0'))])\n",
      "\n",
      "Epoch: 110 | Loss: 0.010256479494273663 | Test Loss: 0.008447891101241112\n",
      "OrderedDict([('linear_layer.weight', tensor([[0.6968]], device='cuda:0')), ('linear_layer.bias', tensor([0.3025], device='cuda:0'))])\n",
      "\n",
      "Epoch: 120 | Loss: 0.010256479494273663 | Test Loss: 0.008447891101241112\n",
      "OrderedDict([('linear_layer.weight', tensor([[0.6968]], device='cuda:0')), ('linear_layer.bias', tensor([0.3025], device='cuda:0'))])\n",
      "\n",
      "Epoch: 130 | Loss: 0.010256479494273663 | Test Loss: 0.008447891101241112\n",
      "OrderedDict([('linear_layer.weight', tensor([[0.6968]], device='cuda:0')), ('linear_layer.bias', tensor([0.3025], device='cuda:0'))])\n",
      "\n",
      "Epoch: 140 | Loss: 0.010256479494273663 | Test Loss: 0.008447891101241112\n",
      "OrderedDict([('linear_layer.weight', tensor([[0.6968]], device='cuda:0')), ('linear_layer.bias', tensor([0.3025], device='cuda:0'))])\n",
      "\n",
      "Epoch: 150 | Loss: 0.010256479494273663 | Test Loss: 0.008447891101241112\n",
      "OrderedDict([('linear_layer.weight', tensor([[0.6968]], device='cuda:0')), ('linear_layer.bias', tensor([0.3025], device='cuda:0'))])\n",
      "\n",
      "Epoch: 160 | Loss: 0.010256479494273663 | Test Loss: 0.008447891101241112\n",
      "OrderedDict([('linear_layer.weight', tensor([[0.6968]], device='cuda:0')), ('linear_layer.bias', tensor([0.3025], device='cuda:0'))])\n",
      "\n",
      "Epoch: 170 | Loss: 0.010256479494273663 | Test Loss: 0.008447891101241112\n",
      "OrderedDict([('linear_layer.weight', tensor([[0.6968]], device='cuda:0')), ('linear_layer.bias', tensor([0.3025], device='cuda:0'))])\n",
      "\n",
      "Epoch: 180 | Loss: 0.010256479494273663 | Test Loss: 0.008447891101241112\n",
      "OrderedDict([('linear_layer.weight', tensor([[0.6968]], device='cuda:0')), ('linear_layer.bias', tensor([0.3025], device='cuda:0'))])\n",
      "\n",
      "Epoch: 190 | Loss: 0.010256479494273663 | Test Loss: 0.008447891101241112\n",
      "OrderedDict([('linear_layer.weight', tensor([[0.6968]], device='cuda:0')), ('linear_layer.bias', tensor([0.3025], device='cuda:0'))])\n"
     ]
    }
   ],
   "source": [
    "# Trainig Loop\n",
    "torch.manual_seed(42)\n",
    "\n",
    "epochs = 200\n",
    "\n",
    "# Put data on the target device\n",
    "X_train = X_train.to(device)\n",
    "y_train = y_train.to(device)\n",
    "X_test = X_test.to(device)\n",
    "y_test = y_test.to(device) \n",
    "\n",
    "for epoch in range(epochs):\n",
    "    model_01.train()\n",
    "\n",
    "    # 1. Forward pass - calculate predictions passing training data through the model\n",
    "    y_pred = model_01(X_train) # goes through the Linear Layer\n",
    "\n",
    "    # 2. Calculate the Loss\n",
    "    loss = loss_fn(y_pred, y_train)\n",
    "\n",
    "    # 3. Optimizer zero grad\n",
    "    optimizer.zero_grad() # by default will acumulate grads behind the scenes so every epoch its needs to be reduzed to zero\n",
    "\n",
    "    # 4. Perform backpropagation\n",
    "    loss.backward()\n",
    "\n",
    "    # 5. Optimizer step\n",
    "    optimizer.step()\n",
    "\n",
    "    ### Testing\n",
    "    model_01.eval()\n",
    "    with torch.inference_mode():\n",
    "        test_pred = model_01(X_test)\n",
    "        tests_loss = loss_fn(test_pred, y_test)\n",
    "    \n",
    "    if epoch % 10 == 0:\n",
    "        epoch_count.append(epoch)\n",
    "        loss_values.append(loss)\n",
    "        test_loss_values.append(test_loss)\n",
    "        print(f\"\\nEpoch: {epoch} | Loss: {loss} | Test Loss: {test_loss}\")\n",
    "        print(model_01.state_dict())"
   ]
  },
  {
   "cell_type": "code",
   "execution_count": 152,
   "id": "6f55a492-41e2-4288-a25c-b9cb3c947ed6",
   "metadata": {},
   "outputs": [
    {
     "data": {
      "text/plain": [
       "OrderedDict([('linear_layer.weight', tensor([[0.6968]], device='cuda:0')),\n",
       "             ('linear_layer.bias', tensor([0.3025], device='cuda:0'))])"
      ]
     },
     "execution_count": 152,
     "metadata": {},
     "output_type": "execute_result"
    }
   ],
   "source": [
    "weight, bias"
   ]
  },
  {
   "cell_type": "code",
   "execution_count": 170,
   "id": "f6a94947-a62b-49c1-81fb-a3d18cd3df9f",
   "metadata": {},
   "outputs": [
    {
     "data": {
      "image/png": "[encoded data removed]",
      "text/plain": [
       "<Figure size 640x480 with 1 Axes>"
      ]
     },
     "metadata": {},
     "output_type": "display_data"
    }
   ],
   "source": [
    "plt.plot(epoch_count, np.array(torch.tensor(loss_values).numpy()), label=\"Train loss\")\n",
    "plt.plot(epoch_count, test_loss_values, label=\"Test loss\")\n",
    "plt.title(\"Training and test loss curves\")\n",
    "plt.ylabel(\"Loss\")\n",
    "plt.xlabel(\"Epochs\")\n",
    "plt.legend();"
   ]
  },
  {
   "cell_type": "code",
   "execution_count": 172,
   "id": "af0ed15b-3462-4603-9f8b-e6ed81f8928c",
   "metadata": {},
   "outputs": [],
   "source": [
    "with torch.inference_mode(): \n",
    "    y_pred_new = model_01(X_test)"
   ]
  },
  {
   "cell_type": "code",
   "execution_count": 184,
   "id": "0da216e2-16ae-4a5e-bb66-cd2daf04b2ca",
   "metadata": {},
   "outputs": [
    {
     "data": {
      "image/png": "[encoded data removed]",
      "text/plain": [
       "<Figure size 1000x700 with 1 Axes>"
      ]
     },
     "metadata": {},
     "output_type": "display_data"
    }
   ],
   "source": [
    "plot_predictions(predictions=y_pred_new.cpu())"
   ]
  },
  {
   "cell_type": "code",
   "execution_count": 186,
   "id": "e8d01b0e-294c-40bc-8954-ce48b61a8fd2",
   "metadata": {},
   "outputs": [
    {
     "name": "stdout",
     "output_type": "stream",
     "text": [
      "Saving model to: models/01_PyTorch_model_01.pth\n"
     ]
    }
   ],
   "source": [
    "# Saving the PyTorch model\n",
    "from pathlib import Path\n",
    "\n",
    "# 1. Create models directory\n",
    "MODEL_PATH = Path(\"models\")\n",
    "MODEL_PATH.mkdir(parents=True, exist_ok=True)\n",
    "\n",
    "# 2. Create model save path\n",
    "MODEL_NAME = \"01_PyTorch_model_01.pth\" \n",
    "MODEL_SAVE_PATH = MODEL_PATH / MODEL_NAME\n",
    "\n",
    "# 3. Save the model state dict\n",
    "print(f\"Saving model to: {MODEL_SAVE_PATH}\")\n",
    "torch.save(obj=model_01.state_dict(),\n",
    "           f=MODEL_SAVE_PATH)"
   ]
  },
  {
   "cell_type": "code",
   "execution_count": 188,
   "id": "6975ea0a-779c-4275-84b2-837a0f7b116f",
   "metadata": {},
   "outputs": [
    {
     "name": "stderr",
     "output_type": "stream",
     "text": [
      "/tmp/ipykernel_21204/60638953.py:5: FutureWarning: You are using `torch.load` with `weights_only=False` (the current default value), which uses the default pickle module implicitly. It is possible to construct malicious pickle data which will execute arbitrary code during unpickling (See https://github.com/pytorch/pytorch/blob/main/SECURITY.md#untrusted-models for more details). In a future release, the default value for `weights_only` will be flipped to `True`. This limits the functions that could be executed during unpickling. Arbitrary objects will no longer be allowed to be loaded via this mode unless they are explicitly allowlisted by the user via `torch.serialization.add_safe_globals`. We recommend you start setting `weights_only=True` for any use case where you don't have full control of the loaded file. Please open an issue on GitHub for any issues related to this experimental feature.\n",
      "  loaded_model_01.load_state_dict(torch.load(MODEL_SAVE_PATH))\n"
     ]
    },
    {
     "data": {
      "text/plain": [
       "LinearRegressionModel_v2(\n",
       "  (linear_layer): Linear(in_features=1, out_features=1, bias=True)\n",
       ")"
      ]
     },
     "execution_count": 188,
     "metadata": {},
     "output_type": "execute_result"
    }
   ],
   "source": [
    "# Loading the saved PyTorch model\n",
    "loaded_model_01 = LinearRegressionModel_v2()\n",
    "\n",
    "# Load the model_01 state dictionary\n",
    "loaded_model_01.load_state_dict(torch.load(MODEL_SAVE_PATH))\n",
    "\n",
    "# Put the loaded model to device\n",
    "loaded_model_01.to(device)"
   ]
  },
  {
   "cell_type": "code",
   "execution_count": 190,
   "id": "1b126103-3aea-4f57-80e9-705e85520eb6",
   "metadata": {},
   "outputs": [
    {
     "data": {
      "text/plain": [
       "device(type='cuda', index=0)"
      ]
     },
     "execution_count": 190,
     "metadata": {},
     "output_type": "execute_result"
    }
   ],
   "source": [
    "next(loaded_model_01.parameters()).device"
   ]
  },
  {
   "cell_type": "code",
   "execution_count": 192,
   "id": "7067a213-dc95-4030-81f4-f1e3def5efd6",
   "metadata": {},
   "outputs": [
    {
     "data": {
      "text/plain": [
       "OrderedDict([('linear_layer.weight', tensor([[0.6929]], device='cuda:0')),\n",
       "             ('linear_layer.bias', tensor([0.2925], device='cuda:0'))])"
      ]
     },
     "execution_count": 192,
     "metadata": {},
     "output_type": "execute_result"
    }
   ],
   "source": [
    "loaded_model_01.state_dict()"
   ]
  },
  {
   "cell_type": "code",
   "execution_count": 194,
   "id": "38c5b16b-c65d-46a9-bef6-88003cdc695a",
   "metadata": {},
   "outputs": [
    {
     "data": {
      "text/plain": [
       "tensor([[True],\n",
       "        [True],\n",
       "        [True],\n",
       "        [True],\n",
       "        [True],\n",
       "        [True],\n",
       "        [True],\n",
       "        [True],\n",
       "        [True],\n",
       "        [True]], device='cuda:0')"
      ]
     },
     "execution_count": 194,
     "metadata": {},
     "output_type": "execute_result"
    }
   ],
   "source": [
    "# Evaluat loaded model\n",
    "loaded_model_01.eval()\n",
    "with torch.inference_mode():\n",
    "    loaded_model_01_preds = loaded_model_01(X_test)\n",
    "y_pred_new == loaded_model_01_preds"
   ]
  },
  {
   "cell_type": "code",
   "execution_count": null,
   "id": "abba954a-177a-433d-b414-ce79009200cb",
   "metadata": {},
   "outputs": [],
   "source": []
  }
 ],
 "metadata": {
  "kernelspec": {
   "display_name": "Python 3 (ipykernel)",
   "language": "python",
   "name": "python3"
  },
  "language_info": {
   "codemirror_mode": {
    "name": "ipython",
    "version": 3
   },
   "file_extension": ".py",
   "mimetype": "text/x-python",
   "name": "python",
   "nbconvert_exporter": "python",
   "pygments_lexer": "ipython3",
   "version": "3.11.7"
  }
 },
 "nbformat": 4,
 "nbformat_minor": 5
}
