{
 "cells": [
  {
   "cell_type": "code",
   "execution_count": 1,
   "id": "92cf58ba-cb52-4db3-8960-9aae9c54df5e",
   "metadata": {},
   "outputs": [],
   "source": [
    "import matplotlib.pyplot as plt\n",
    "from scipy import stats\n",
    "import numpy as np"
   ]
  },
  {
   "cell_type": "code",
   "execution_count": 3,
   "id": "efa22e63-1def-462a-bcdb-d23504a9e8ca",
   "metadata": {},
   "outputs": [],
   "source": [
    "x = np.array([0.0,10.0,20.0,30.0,40.0,50.0,60.0,70.0,80.0,90.0])\n",
    "y = np.array([0.5,11.2,21.8,31.7,42.3,51.0,62.2,72.5,82.1,91.7])"
   ]
  },
  {
   "cell_type": "code",
   "execution_count": 5,
   "id": "4daa7a08-73a7-4571-ba89-780a6ef0e22a",
   "metadata": {},
   "outputs": [
    {
     "data": {
      "text/plain": [
       "LinregressResult(slope=1.0126060606060607, intercept=1.1327272727272657, rvalue=0.999864734535034, pvalue=1.464385029516782e-15, stderr=0.005889088133569567, intercept_stderr=0.3143912741761564)"
      ]
     },
     "execution_count": 5,
     "metadata": {},
     "output_type": "execute_result"
    }
   ],
   "source": [
    "res = stats.linregress(x,y)\n",
    "res"
   ]
  },
  {
   "cell_type": "code",
   "execution_count": 13,
   "id": "eb837fdc-5984-491c-9ef3-b2be06a816a3",
   "metadata": {},
   "outputs": [],
   "source": [
    "sb1 = res.slope\n",
    "sb0 = res.intercept"
   ]
  },
  {
   "cell_type": "code",
   "execution_count": 15,
   "id": "8d1ea8ba-2d08-4f8e-949e-b6e834893fe1",
   "metadata": {},
   "outputs": [
    {
     "name": "stdout",
     "output_type": "stream",
     "text": [
      "parâmetros do modelo\n"
     ]
    }
   ],
   "source": [
    "print(\"parâmetros do modelo\")\n"
   ]
  },
  {
   "cell_type": "code",
   "execution_count": 17,
   "id": "acebd2c3-28f0-45a9-83f5-98b3b8cc73fc",
   "metadata": {},
   "outputs": [
    {
     "name": "stdout",
     "output_type": "stream",
     "text": [
      "sb1: 1.0126060606 sb0: 1.1327272727 \n",
      "\n"
     ]
    }
   ],
   "source": [
    "print(f\"sb1: {sb1:.10f} sb0: {sb0:.10f} \\n\")"
   ]
  },
  {
   "cell_type": "code",
   "execution_count": 19,
   "id": "019deef0-05aa-4543-afff-04a48ad68e21",
   "metadata": {},
   "outputs": [],
   "source": [
    "alpha = 0.5"
   ]
  },
  {
   "cell_type": "code",
   "execution_count": 21,
   "id": "05d9b447-b044-43fc-879c-961ddd852f55",
   "metadata": {},
   "outputs": [],
   "source": [
    "dof = len(x)-2"
   ]
  },
  {
   "cell_type": "code",
   "execution_count": 23,
   "id": "8199cd7c-bdac-4bfb-9667-ca3e3b42f4fd",
   "metadata": {},
   "outputs": [],
   "source": [
    "ts = abs(stats.t.ppf(alpha/2, dof))"
   ]
  },
  {
   "cell_type": "code",
   "execution_count": 31,
   "id": "a506cfb1-80a7-490f-a80b-25a97612de99",
   "metadata": {},
   "outputs": [],
   "source": [
    "sb1 = res.stderr"
   ]
  },
  {
   "cell_type": "code",
   "execution_count": 33,
   "id": "7ba422e5-e3d9-4ba8-bd73-5911cc3c5524",
   "metadata": {},
   "outputs": [
    {
     "ename": "AttributeError",
     "evalue": "'LinregressResult' object has no attribute 'sterr'",
     "output_type": "error",
     "traceback": [
      "\u001b[0;31m---------------------------------------------------------------------------\u001b[0m",
      "\u001b[0;31mAttributeError\u001b[0m                            Traceback (most recent call last)",
      "Cell \u001b[0;32mIn[33], line 1\u001b[0m\n\u001b[0;32m----> 1\u001b[0m \u001b[38;5;28mprint\u001b[39m(\u001b[38;5;124mf\u001b[39m\u001b[38;5;124m\"\u001b[39m\u001b[38;5;124mcoef. angular (95%): \u001b[39m\u001b[38;5;132;01m{\u001b[39;00mres\u001b[38;5;241m.\u001b[39mslope\u001b[38;5;132;01m:\u001b[39;00m\u001b[38;5;124m.10f\u001b[39m\u001b[38;5;132;01m}\u001b[39;00m\u001b[38;5;124m +/- \u001b[39m\u001b[38;5;132;01m{\u001b[39;00mts\u001b[38;5;241m*\u001b[39mres\u001b[38;5;241m.\u001b[39msterr\u001b[38;5;132;01m:\u001b[39;00m\u001b[38;5;124m.10f\u001b[39m\u001b[38;5;132;01m}\u001b[39;00m\u001b[38;5;124m\"\u001b[39m)\n",
      "\u001b[0;31mAttributeError\u001b[0m: 'LinregressResult' object has no attribute 'sterr'"
     ]
    }
   ],
   "source": [
    "print(f\"coef. angular (95%): {res.slope:.10f} +/- {ts*res.sterr:.10f}\")"
   ]
  },
  {
   "cell_type": "code",
   "execution_count": null,
   "id": "22aa8a84-e3c8-41e0-b841-98101273796c",
   "metadata": {},
   "outputs": [],
   "source": [
    "print(f\"coef. linear (95%): {res.intercept:.10f}\" f\" +/- {ts*res.intercept_stderr:.10f}\")"
   ]
  },
  {
   "cell_type": "code",
   "execution_count": null,
   "id": "e1e3fa57-f0dc-45d5-876d-fda55b88e515",
   "metadata": {},
   "outputs": [],
   "source": [
    "plt.plot(x,y, 'o', label='dados originais')\n",
    "plt.plot(x, res.intercept + res.slope*x, 'r', label='curva ajustada')\n",
    "plt.legend()\n",
    "plt.show()"
   ]
  },
  {
   "cell_type": "code",
   "execution_count": null,
   "id": "d0aec5b8-162d-4160-abe0-055f09a0426e",
   "metadata": {},
   "outputs": [],
   "source": []
  },
  {
   "cell_type": "code",
   "execution_count": null,
   "id": "12fcea9f-7a56-4bae-8215-98ba95f83c21",
   "metadata": {},
   "outputs": [],
   "source": []
  }
 ],
 "metadata": {
  "kernelspec": {
   "display_name": "Python 3 (ipykernel)",
   "language": "python",
   "name": "python3"
  },
  "language_info": {
   "codemirror_mode": {
    "name": "ipython",
    "version": 3
   },
   "file_extension": ".py",
   "mimetype": "text/x-python",
   "name": "python",
   "nbconvert_exporter": "python",
   "pygments_lexer": "ipython3",
   "version": "3.11.7"
  }
 },
 "nbformat": 4,
 "nbformat_minor": 5
}
